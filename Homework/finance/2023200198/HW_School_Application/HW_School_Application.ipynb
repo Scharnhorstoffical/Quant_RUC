{
 "cells": [
  {
   "cell_type": "code",
   "execution_count": 1,
   "id": "3efecff5",
   "metadata": {},
   "outputs": [],
   "source": [
    "import os\n",
    "import tempfile\n",
    "from docx import Document\n",
    "import docx2pdf"
   ]
  },
  {
   "cell_type": "code",
   "execution_count": 2,
   "id": "634952e7",
   "metadata": {},
   "outputs": [],
   "source": [
    "def create_output_directories():\n",
    "    directories = ['generated_documents', 'generated_documents/word', 'generated_documents/pdf']\n",
    "    for dir_path in directories:\n",
    "        if not os.path.exists(dir_path):\n",
    "            os.makedirs(dir_path)\n",
    "            print(f'creat output directorires: {dir_path}')"
   ]
  },
  {
   "cell_type": "code",
   "execution_count": 3,
   "id": "40653bff",
   "metadata": {},
   "outputs": [],
   "source": [
    "def generate_application(university, research_area, journal_1, journal_2, journal_3, job, skill):\n",
    "    text = \"\"\"Dear Admission Committee,\n",
    "\n",
    "My name is Ziyun Tang, and I am pleased to apply for the Master of Finance program at {university}.\n",
    "\n",
    "In my free time, I enjoy reading top-tier academic research to stay updated with the latest advancements in {research_area}. I occasionally study articles from leading ABS 4+ rated journals such as {journal_1}, {journal_2}, and {journal_3}, among others. This habit not only deepens my understanding of theoretical and empirical approaches in finance but also sharpens my ability to critically analyze complex economic phenomena.\n",
    "\n",
    "I want to be {job}. To achieve my dream, I have practical skills such as {skill}.\n",
    "\n",
    "I am particularly drawn to {university} due to its strong academic environment and research-oriented approach.\n",
    "\n",
    "Thank you for considering my application. I am eager to contribute to and benefit from the rigorous academic culture at {university}.\n",
    "\n",
    "Sincerely,\n",
    "Ziyun Tang\n",
    "\"\"\"\n",
    "    \n",
    "    text = text.format(\n",
    "        university=university,\n",
    "        research_area=research_area,\n",
    "        journal_1=journal_1,\n",
    "        journal_2=journal_2,\n",
    "        journal_3=journal_3,\n",
    "        job=job,\n",
    "        skill=skill\n",
    "    )\n",
    "    \n",
    "    doc = Document()\n",
    "    for para in text.split(\"\\n\\n\"):\n",
    "        doc.add_paragraph(para)\n",
    "\n",
    "    with tempfile.NamedTemporaryFile(suffix=\".docx\", delete=False) as tmp:\n",
    "        doc.save(tmp.name)\n",
    "        return tmp.name"
   ]
  },
  {
   "cell_type": "code",
   "execution_count": 4,
   "id": "3baf1a01",
   "metadata": {},
   "outputs": [],
   "source": [
    "area_info = {\n",
    "    \"accounting\": {\n",
    "        \"journal_1\": \"Accounting Review\",\n",
    "        \"journal_2\": \"Accounting, Organizations and Society\",\n",
    "        \"journal_3\": \"Journal of Accounting and Economics\",\n",
    "        \"job\": \"an accountant\",\n",
    "        \"skill\": \"accounting experience, AP skills, Excel proficiency, communication skills and etc\"\n",
    "    },\n",
    "    \"economy\": {\n",
    "        \"journal_1\": \"American Economic Review\",\n",
    "        \"journal_2\": \"Annals of Statistics\",\n",
    "        \"journal_3\": \"Journal of Political Economy\",\n",
    "        \"job\": \"an economist\",\n",
    "        \"skill\": \"Microeconomics expertise, applied econometrics, Excel, STATA, SAS, Matlab, Python, R, team collaboration and etc\"\n",
    "    },\n",
    "    \"finance\": {\n",
    "        \"journal_1\": \"Journal of Financial Economics\",\n",
    "        \"journal_2\": \"Review of Financial Studies\",\n",
    "        \"journal_3\": \"Journal of Finance\",\n",
    "        \"job\": \"a quantitative analyst\",\n",
    "        \"skill\": \"Python, Java, C++, Q/KDB, time series knowledge, analytical skills, problem-solving skills and etc\"\n",
    "    }\n",
    "}"
   ]
  },
  {
   "cell_type": "code",
   "execution_count": 5,
   "id": "6706a026",
   "metadata": {},
   "outputs": [],
   "source": [
    "universities = [\n",
    "    \"Harvard University\",\n",
    "    \"Massachusetts Institute of Technology (MIT)\",\n",
    "    \"University of California-Berkeley\",\n",
    "    \"University of Chicago\",\n",
    "    \"Princeton University\",\n",
    "    \"Stanford University\",\n",
    "    \"Yale University\",\n",
    "    \"Columbia University\",\n",
    "    \"New York University (NYU)\",\n",
    "    \"Boston University\",\n",
    "    \"University of Cambridge\",\n",
    "    \"Boston College\",\n",
    "    \"University of Toronto\",\n",
    "    \"Cornell University\",\n",
    "    \"University of California-Davis\",\n",
    "    \"Johns Hopkins University\",\n",
    "    \"University of California-Irvine\",\n",
    "    \"University of Maryland\",\n",
    "    \"Vanderbilt University\",\n",
    "    \"University of Notre Dame\",\n",
    "    \"University of Virginia\",\n",
    "    \"Georgetown University\",\n",
    "    \"University of Minnesota\",\n",
    "    \"University of California-Santa Barbara (UCSB)\",\n",
    "    \"Pennsylvania State University\",\n",
    "    \"Washington University in St. Louis\",\n",
    "    \"University of Colorado\",\n",
    "    \"Rutgers University-New Brunswick\",\n",
    "    \"Ohio State University\",\n",
    "    \"University of California-Santa Cruz (UCSC)\"\n",
    "]"
   ]
  },
  {
   "cell_type": "code",
   "execution_count": 6,
   "id": "ceaa0acd",
   "metadata": {},
   "outputs": [],
   "source": [
    "def main():\n",
    "    # Create output directories\n",
    "    create_output_directories()\n",
    "    \n",
    "    document_count = 0\n",
    "    # Iterate through all universities and research areas\n",
    "    for uni in universities:\n",
    "        for research_area, info in area_info.items():\n",
    "            try:\n",
    "                # Generate application letter as Word document\n",
    "                temp_docx_path = generate_application(\n",
    "                    university=uni,\n",
    "                    research_area=research_area,\n",
    "                    journal_1=info[\"journal_1\"],\n",
    "                    journal_2=info[\"journal_2\"],\n",
    "                    journal_3=info[\"journal_3\"],\n",
    "                    job=info[\"job\"],\n",
    "                    skill=info[\"skill\"]\n",
    "                )\n",
    "                \n",
    "                # File name processing\n",
    "                safe_uni = uni.replace(\" \", \"_\").replace(\"(\", \"\").replace(\")\", \"\").replace(\"-\", \"_\")\n",
    "                \n",
    "                # Save as Word\n",
    "                word_filename = f\"{safe_uni}_{research_area}.docx\"\n",
    "                word_filepath = os.path.join('generated_documents', 'word', word_filename)\n",
    "                os.rename(temp_docx_path, word_filepath)\n",
    "                \n",
    "                # Save as PDF\n",
    "                pdf_filename = f\"{safe_uni}_{research_area}.pdf\"\n",
    "                pdf_filepath = os.path.join('generated_documents', 'pdf', pdf_filename)\n",
    "                docx2pdf.convert(word_filepath, pdf_filepath)\n",
    "                \n",
    "                document_count += 1\n",
    "                if document_count % 10 == 0:\n",
    "                    print(f\"{document_count} documents have been generated...\")\n",
    "            except Exception as e:\n",
    "                print(f\"Error generating application letter for {uni} in {research_area}: {str(e)}\")\n",
    "    \n",
    "        print(f\"\\n{document_count} application letters have been generated and saved:\\n\"\n",
    "          f\"- Word documents saved in 'generated_documents/word' folder\\n\"\n",
    "          f\"- PDF documents saved in 'generated_documents/pdf' folder\")"
   ]
  },
  {
   "cell_type": "code",
   "execution_count": 7,
   "id": "2d3542bc",
   "metadata": {},
   "outputs": [
    {
     "name": "stdout",
     "output_type": "stream",
     "text": [
      "creat output directorires: generated_documents\n",
      "creat output directorires: generated_documents/word\n",
      "creat output directorires: generated_documents/pdf\n"
     ]
    },
    {
     "data": {
      "application/vnd.jupyter.widget-view+json": {
       "model_id": "9958e0ad25b44b2ab4951a100555f37b",
       "version_major": 2,
       "version_minor": 0
      },
      "text/plain": [
       "  0%|          | 0/1 [00:00<?, ?it/s]"
      ]
     },
     "metadata": {},
     "output_type": "display_data"
    },
    {
     "data": {
      "application/vnd.jupyter.widget-view+json": {
       "model_id": "46771c88b1c24835ac3a3592f64a50ce",
       "version_major": 2,
       "version_minor": 0
      },
      "text/plain": [
       "  0%|          | 0/1 [00:00<?, ?it/s]"
      ]
     },
     "metadata": {},
     "output_type": "display_data"
    },
    {
     "name": "stdout",
     "output_type": "stream",
     "text": [
      "Error generating application letter for Harvard University in economy: Word.Application.Documents\n"
     ]
    },
    {
     "data": {
      "application/vnd.jupyter.widget-view+json": {
       "model_id": "b6462b1f5fee49898eb3b2139bd02fb0",
       "version_major": 2,
       "version_minor": 0
      },
      "text/plain": [
       "  0%|          | 0/1 [00:00<?, ?it/s]"
      ]
     },
     "metadata": {},
     "output_type": "display_data"
    },
    {
     "name": "stdout",
     "output_type": "stream",
     "text": [
      "\n",
      "2 application letters have been generated and saved:\n",
      "- Word documents saved in 'generated_documents/word' folder\n",
      "- PDF documents saved in 'generated_documents/pdf' folder\n"
     ]
    },
    {
     "data": {
      "application/vnd.jupyter.widget-view+json": {
       "model_id": "f4b5bf96e86e4746a1592ea7b5c6bd50",
       "version_major": 2,
       "version_minor": 0
      },
      "text/plain": [
       "  0%|          | 0/1 [00:00<?, ?it/s]"
      ]
     },
     "metadata": {},
     "output_type": "display_data"
    },
    {
     "name": "stdout",
     "output_type": "stream",
     "text": [
      "Error generating application letter for Massachusetts Institute of Technology (MIT) in accounting: Word.Application.Documents\n"
     ]
    },
    {
     "data": {
      "application/vnd.jupyter.widget-view+json": {
       "model_id": "679df4294c30460b8383cc7117b28427",
       "version_major": 2,
       "version_minor": 0
      },
      "text/plain": [
       "  0%|          | 0/1 [00:00<?, ?it/s]"
      ]
     },
     "metadata": {},
     "output_type": "display_data"
    },
    {
     "data": {
      "application/vnd.jupyter.widget-view+json": {
       "model_id": "8e9dc71b0876472e9e0e9d68d2e2781a",
       "version_major": 2,
       "version_minor": 0
      },
      "text/plain": [
       "  0%|          | 0/1 [00:00<?, ?it/s]"
      ]
     },
     "metadata": {},
     "output_type": "display_data"
    },
    {
     "name": "stdout",
     "output_type": "stream",
     "text": [
      "Error generating application letter for Massachusetts Institute of Technology (MIT) in finance: Word.Application.Documents\n",
      "\n",
      "3 application letters have been generated and saved:\n",
      "- Word documents saved in 'generated_documents/word' folder\n",
      "- PDF documents saved in 'generated_documents/pdf' folder\n"
     ]
    },
    {
     "data": {
      "application/vnd.jupyter.widget-view+json": {
       "model_id": "075963495b6849edb5e23697e5aaf787",
       "version_major": 2,
       "version_minor": 0
      },
      "text/plain": [
       "  0%|          | 0/1 [00:00<?, ?it/s]"
      ]
     },
     "metadata": {},
     "output_type": "display_data"
    },
    {
     "data": {
      "application/vnd.jupyter.widget-view+json": {
       "model_id": "a196ae3a123c44009be03e7bf9a892fe",
       "version_major": 2,
       "version_minor": 0
      },
      "text/plain": [
       "  0%|          | 0/1 [00:00<?, ?it/s]"
      ]
     },
     "metadata": {},
     "output_type": "display_data"
    },
    {
     "name": "stdout",
     "output_type": "stream",
     "text": [
      "Error generating application letter for University of California-Berkeley in economy: Word.Application.Documents\n"
     ]
    },
    {
     "data": {
      "application/vnd.jupyter.widget-view+json": {
       "model_id": "f107e6c04a6d423b96265de16b142df4",
       "version_major": 2,
       "version_minor": 0
      },
      "text/plain": [
       "  0%|          | 0/1 [00:00<?, ?it/s]"
      ]
     },
     "metadata": {},
     "output_type": "display_data"
    },
    {
     "name": "stdout",
     "output_type": "stream",
     "text": [
      "\n",
      "5 application letters have been generated and saved:\n",
      "- Word documents saved in 'generated_documents/word' folder\n",
      "- PDF documents saved in 'generated_documents/pdf' folder\n"
     ]
    },
    {
     "data": {
      "application/vnd.jupyter.widget-view+json": {
       "model_id": "01557cfc42cf46b8b38de54ae071fbe3",
       "version_major": 2,
       "version_minor": 0
      },
      "text/plain": [
       "  0%|          | 0/1 [00:00<?, ?it/s]"
      ]
     },
     "metadata": {},
     "output_type": "display_data"
    },
    {
     "name": "stdout",
     "output_type": "stream",
     "text": [
      "Error generating application letter for University of Chicago in accounting: Word.Application.Documents\n"
     ]
    },
    {
     "data": {
      "application/vnd.jupyter.widget-view+json": {
       "model_id": "a03845b217734aebb08783299fcc53dd",
       "version_major": 2,
       "version_minor": 0
      },
      "text/plain": [
       "  0%|          | 0/1 [00:00<?, ?it/s]"
      ]
     },
     "metadata": {},
     "output_type": "display_data"
    },
    {
     "data": {
      "application/vnd.jupyter.widget-view+json": {
       "model_id": "60d9f1eb1f554badafe4be999029c3df",
       "version_major": 2,
       "version_minor": 0
      },
      "text/plain": [
       "  0%|          | 0/1 [00:00<?, ?it/s]"
      ]
     },
     "metadata": {},
     "output_type": "display_data"
    },
    {
     "name": "stdout",
     "output_type": "stream",
     "text": [
      "Error generating application letter for University of Chicago in finance: Word.Application.Documents\n",
      "\n",
      "6 application letters have been generated and saved:\n",
      "- Word documents saved in 'generated_documents/word' folder\n",
      "- PDF documents saved in 'generated_documents/pdf' folder\n"
     ]
    },
    {
     "data": {
      "application/vnd.jupyter.widget-view+json": {
       "model_id": "e0f923d35e51434d99a599dd81a51cf6",
       "version_major": 2,
       "version_minor": 0
      },
      "text/plain": [
       "  0%|          | 0/1 [00:00<?, ?it/s]"
      ]
     },
     "metadata": {},
     "output_type": "display_data"
    },
    {
     "data": {
      "application/vnd.jupyter.widget-view+json": {
       "model_id": "a7231a6a200f4982aceaeee42e3ba250",
       "version_major": 2,
       "version_minor": 0
      },
      "text/plain": [
       "  0%|          | 0/1 [00:00<?, ?it/s]"
      ]
     },
     "metadata": {},
     "output_type": "display_data"
    },
    {
     "name": "stdout",
     "output_type": "stream",
     "text": [
      "Error generating application letter for Princeton University in economy: Word.Application.Documents\n"
     ]
    },
    {
     "data": {
      "application/vnd.jupyter.widget-view+json": {
       "model_id": "bfa232c8d3c84fe1b0c97588d46e5637",
       "version_major": 2,
       "version_minor": 0
      },
      "text/plain": [
       "  0%|          | 0/1 [00:00<?, ?it/s]"
      ]
     },
     "metadata": {},
     "output_type": "display_data"
    },
    {
     "name": "stdout",
     "output_type": "stream",
     "text": [
      "\n",
      "8 application letters have been generated and saved:\n",
      "- Word documents saved in 'generated_documents/word' folder\n",
      "- PDF documents saved in 'generated_documents/pdf' folder\n"
     ]
    },
    {
     "data": {
      "application/vnd.jupyter.widget-view+json": {
       "model_id": "c9a815dab13b41dfbe0fea3c37fae87b",
       "version_major": 2,
       "version_minor": 0
      },
      "text/plain": [
       "  0%|          | 0/1 [00:00<?, ?it/s]"
      ]
     },
     "metadata": {},
     "output_type": "display_data"
    },
    {
     "name": "stdout",
     "output_type": "stream",
     "text": [
      "Error generating application letter for Stanford University in accounting: Word.Application.Documents\n"
     ]
    },
    {
     "data": {
      "application/vnd.jupyter.widget-view+json": {
       "model_id": "97a48a97d6644cadbdeb9353b76d2a6b",
       "version_major": 2,
       "version_minor": 0
      },
      "text/plain": [
       "  0%|          | 0/1 [00:00<?, ?it/s]"
      ]
     },
     "metadata": {},
     "output_type": "display_data"
    },
    {
     "data": {
      "application/vnd.jupyter.widget-view+json": {
       "model_id": "d9075d48d96643e2be58913d53dcc6d8",
       "version_major": 2,
       "version_minor": 0
      },
      "text/plain": [
       "  0%|          | 0/1 [00:00<?, ?it/s]"
      ]
     },
     "metadata": {},
     "output_type": "display_data"
    },
    {
     "name": "stdout",
     "output_type": "stream",
     "text": [
      "Error generating application letter for Stanford University in finance: Word.Application.Documents\n",
      "\n",
      "9 application letters have been generated and saved:\n",
      "- Word documents saved in 'generated_documents/word' folder\n",
      "- PDF documents saved in 'generated_documents/pdf' folder\n"
     ]
    },
    {
     "data": {
      "application/vnd.jupyter.widget-view+json": {
       "model_id": "2203a79cbf104f80bcb42959e6be1c38",
       "version_major": 2,
       "version_minor": 0
      },
      "text/plain": [
       "  0%|          | 0/1 [00:00<?, ?it/s]"
      ]
     },
     "metadata": {},
     "output_type": "display_data"
    },
    {
     "name": "stdout",
     "output_type": "stream",
     "text": [
      "10 documents have been generated...\n"
     ]
    },
    {
     "data": {
      "application/vnd.jupyter.widget-view+json": {
       "model_id": "93a715dc16c744e5adfb4a7116dda589",
       "version_major": 2,
       "version_minor": 0
      },
      "text/plain": [
       "  0%|          | 0/1 [00:00<?, ?it/s]"
      ]
     },
     "metadata": {},
     "output_type": "display_data"
    },
    {
     "name": "stdout",
     "output_type": "stream",
     "text": [
      "Error generating application letter for Yale University in economy: Word.Application.Documents\n"
     ]
    },
    {
     "data": {
      "application/vnd.jupyter.widget-view+json": {
       "model_id": "20cac4a77f304d48b2eaf9b639bac0a2",
       "version_major": 2,
       "version_minor": 0
      },
      "text/plain": [
       "  0%|          | 0/1 [00:00<?, ?it/s]"
      ]
     },
     "metadata": {},
     "output_type": "display_data"
    },
    {
     "name": "stdout",
     "output_type": "stream",
     "text": [
      "\n",
      "11 application letters have been generated and saved:\n",
      "- Word documents saved in 'generated_documents/word' folder\n",
      "- PDF documents saved in 'generated_documents/pdf' folder\n"
     ]
    },
    {
     "data": {
      "application/vnd.jupyter.widget-view+json": {
       "model_id": "cda456bda5a84e28b3a1f71fcda0037d",
       "version_major": 2,
       "version_minor": 0
      },
      "text/plain": [
       "  0%|          | 0/1 [00:00<?, ?it/s]"
      ]
     },
     "metadata": {},
     "output_type": "display_data"
    },
    {
     "name": "stdout",
     "output_type": "stream",
     "text": [
      "Error generating application letter for Columbia University in accounting: Word.Application.Documents\n"
     ]
    },
    {
     "data": {
      "application/vnd.jupyter.widget-view+json": {
       "model_id": "f2fa49f99f36407081c114a8b10f35d8",
       "version_major": 2,
       "version_minor": 0
      },
      "text/plain": [
       "  0%|          | 0/1 [00:00<?, ?it/s]"
      ]
     },
     "metadata": {},
     "output_type": "display_data"
    },
    {
     "data": {
      "application/vnd.jupyter.widget-view+json": {
       "model_id": "621d6f21f0564a9786b08ee6bb875e8e",
       "version_major": 2,
       "version_minor": 0
      },
      "text/plain": [
       "  0%|          | 0/1 [00:00<?, ?it/s]"
      ]
     },
     "metadata": {},
     "output_type": "display_data"
    },
    {
     "name": "stdout",
     "output_type": "stream",
     "text": [
      "Error generating application letter for Columbia University in finance: Word.Application.Documents\n",
      "\n",
      "12 application letters have been generated and saved:\n",
      "- Word documents saved in 'generated_documents/word' folder\n",
      "- PDF documents saved in 'generated_documents/pdf' folder\n"
     ]
    },
    {
     "data": {
      "application/vnd.jupyter.widget-view+json": {
       "model_id": "ad6fcfb0ad6740ac81b87d2c8ba407c3",
       "version_major": 2,
       "version_minor": 0
      },
      "text/plain": [
       "  0%|          | 0/1 [00:00<?, ?it/s]"
      ]
     },
     "metadata": {},
     "output_type": "display_data"
    },
    {
     "data": {
      "application/vnd.jupyter.widget-view+json": {
       "model_id": "bd353f1c25af4f7882021b07f31758f9",
       "version_major": 2,
       "version_minor": 0
      },
      "text/plain": [
       "  0%|          | 0/1 [00:00<?, ?it/s]"
      ]
     },
     "metadata": {},
     "output_type": "display_data"
    },
    {
     "name": "stdout",
     "output_type": "stream",
     "text": [
      "Error generating application letter for New York University (NYU) in economy: Word.Application.Documents\n"
     ]
    },
    {
     "data": {
      "application/vnd.jupyter.widget-view+json": {
       "model_id": "61d82abb6982421ba00a6e965bc4b9ed",
       "version_major": 2,
       "version_minor": 0
      },
      "text/plain": [
       "  0%|          | 0/1 [00:00<?, ?it/s]"
      ]
     },
     "metadata": {},
     "output_type": "display_data"
    },
    {
     "name": "stdout",
     "output_type": "stream",
     "text": [
      "\n",
      "14 application letters have been generated and saved:\n",
      "- Word documents saved in 'generated_documents/word' folder\n",
      "- PDF documents saved in 'generated_documents/pdf' folder\n"
     ]
    },
    {
     "data": {
      "application/vnd.jupyter.widget-view+json": {
       "model_id": "7b7007e667d648f0bd42297decbd2906",
       "version_major": 2,
       "version_minor": 0
      },
      "text/plain": [
       "  0%|          | 0/1 [00:00<?, ?it/s]"
      ]
     },
     "metadata": {},
     "output_type": "display_data"
    },
    {
     "name": "stdout",
     "output_type": "stream",
     "text": [
      "Error generating application letter for Boston University in accounting: Word.Application.Documents\n"
     ]
    },
    {
     "data": {
      "application/vnd.jupyter.widget-view+json": {
       "model_id": "b8fab39055dc45e6af9aaeb1ea347b9c",
       "version_major": 2,
       "version_minor": 0
      },
      "text/plain": [
       "  0%|          | 0/1 [00:00<?, ?it/s]"
      ]
     },
     "metadata": {},
     "output_type": "display_data"
    },
    {
     "data": {
      "application/vnd.jupyter.widget-view+json": {
       "model_id": "5067d55453f54579bba0c9d48be9d9f4",
       "version_major": 2,
       "version_minor": 0
      },
      "text/plain": [
       "  0%|          | 0/1 [00:00<?, ?it/s]"
      ]
     },
     "metadata": {},
     "output_type": "display_data"
    },
    {
     "name": "stdout",
     "output_type": "stream",
     "text": [
      "Error generating application letter for Boston University in finance: Word.Application.Documents\n",
      "\n",
      "15 application letters have been generated and saved:\n",
      "- Word documents saved in 'generated_documents/word' folder\n",
      "- PDF documents saved in 'generated_documents/pdf' folder\n"
     ]
    },
    {
     "data": {
      "application/vnd.jupyter.widget-view+json": {
       "model_id": "7b4ed7de0dc04deeb7bc6621a844d382",
       "version_major": 2,
       "version_minor": 0
      },
      "text/plain": [
       "  0%|          | 0/1 [00:00<?, ?it/s]"
      ]
     },
     "metadata": {},
     "output_type": "display_data"
    },
    {
     "data": {
      "application/vnd.jupyter.widget-view+json": {
       "model_id": "631d2f1e3b8b42b5bfc6137293e3f420",
       "version_major": 2,
       "version_minor": 0
      },
      "text/plain": [
       "  0%|          | 0/1 [00:00<?, ?it/s]"
      ]
     },
     "metadata": {},
     "output_type": "display_data"
    },
    {
     "name": "stdout",
     "output_type": "stream",
     "text": [
      "Error generating application letter for University of Cambridge in economy: Word.Application.Documents\n"
     ]
    },
    {
     "data": {
      "application/vnd.jupyter.widget-view+json": {
       "model_id": "2596d269d67d46828ba30f8b17d53f6e",
       "version_major": 2,
       "version_minor": 0
      },
      "text/plain": [
       "  0%|          | 0/1 [00:00<?, ?it/s]"
      ]
     },
     "metadata": {},
     "output_type": "display_data"
    },
    {
     "name": "stdout",
     "output_type": "stream",
     "text": [
      "\n",
      "17 application letters have been generated and saved:\n",
      "- Word documents saved in 'generated_documents/word' folder\n",
      "- PDF documents saved in 'generated_documents/pdf' folder\n"
     ]
    },
    {
     "data": {
      "application/vnd.jupyter.widget-view+json": {
       "model_id": "f32c9f02087b4705a9245b7ff3099152",
       "version_major": 2,
       "version_minor": 0
      },
      "text/plain": [
       "  0%|          | 0/1 [00:00<?, ?it/s]"
      ]
     },
     "metadata": {},
     "output_type": "display_data"
    },
    {
     "name": "stdout",
     "output_type": "stream",
     "text": [
      "Error generating application letter for Boston College in accounting: Word.Application.Documents\n"
     ]
    },
    {
     "data": {
      "application/vnd.jupyter.widget-view+json": {
       "model_id": "c59d9b66044844ea9a0d1b39820c8f2d",
       "version_major": 2,
       "version_minor": 0
      },
      "text/plain": [
       "  0%|          | 0/1 [00:00<?, ?it/s]"
      ]
     },
     "metadata": {},
     "output_type": "display_data"
    },
    {
     "data": {
      "application/vnd.jupyter.widget-view+json": {
       "model_id": "5aead42f0eac4daf8221b49a7696be5f",
       "version_major": 2,
       "version_minor": 0
      },
      "text/plain": [
       "  0%|          | 0/1 [00:00<?, ?it/s]"
      ]
     },
     "metadata": {},
     "output_type": "display_data"
    },
    {
     "name": "stdout",
     "output_type": "stream",
     "text": [
      "Error generating application letter for Boston College in finance: Word.Application.Documents\n",
      "\n",
      "18 application letters have been generated and saved:\n",
      "- Word documents saved in 'generated_documents/word' folder\n",
      "- PDF documents saved in 'generated_documents/pdf' folder\n"
     ]
    },
    {
     "data": {
      "application/vnd.jupyter.widget-view+json": {
       "model_id": "9584ff9e6d454a4ebde9db4e9e44fec8",
       "version_major": 2,
       "version_minor": 0
      },
      "text/plain": [
       "  0%|          | 0/1 [00:00<?, ?it/s]"
      ]
     },
     "metadata": {},
     "output_type": "display_data"
    },
    {
     "data": {
      "application/vnd.jupyter.widget-view+json": {
       "model_id": "ab099f2414ee413fb20171e9e4147b45",
       "version_major": 2,
       "version_minor": 0
      },
      "text/plain": [
       "  0%|          | 0/1 [00:00<?, ?it/s]"
      ]
     },
     "metadata": {},
     "output_type": "display_data"
    },
    {
     "name": "stdout",
     "output_type": "stream",
     "text": [
      "Error generating application letter for University of Toronto in economy: Word.Application.Documents\n"
     ]
    },
    {
     "data": {
      "application/vnd.jupyter.widget-view+json": {
       "model_id": "099b87a34909470d9a41eccdbf858f6c",
       "version_major": 2,
       "version_minor": 0
      },
      "text/plain": [
       "  0%|          | 0/1 [00:00<?, ?it/s]"
      ]
     },
     "metadata": {},
     "output_type": "display_data"
    },
    {
     "name": "stdout",
     "output_type": "stream",
     "text": [
      "20 documents have been generated...\n",
      "\n",
      "20 application letters have been generated and saved:\n",
      "- Word documents saved in 'generated_documents/word' folder\n",
      "- PDF documents saved in 'generated_documents/pdf' folder\n"
     ]
    },
    {
     "data": {
      "application/vnd.jupyter.widget-view+json": {
       "model_id": "2a1e037fe98f4ecf9f54fff70db37f70",
       "version_major": 2,
       "version_minor": 0
      },
      "text/plain": [
       "  0%|          | 0/1 [00:00<?, ?it/s]"
      ]
     },
     "metadata": {},
     "output_type": "display_data"
    },
    {
     "name": "stdout",
     "output_type": "stream",
     "text": [
      "Error generating application letter for Cornell University in accounting: Word.Application.Documents\n"
     ]
    },
    {
     "data": {
      "application/vnd.jupyter.widget-view+json": {
       "model_id": "74802701638944b8bc52149893fbcf47",
       "version_major": 2,
       "version_minor": 0
      },
      "text/plain": [
       "  0%|          | 0/1 [00:00<?, ?it/s]"
      ]
     },
     "metadata": {},
     "output_type": "display_data"
    },
    {
     "data": {
      "application/vnd.jupyter.widget-view+json": {
       "model_id": "211d55797e32478bb1da34c738ca4b32",
       "version_major": 2,
       "version_minor": 0
      },
      "text/plain": [
       "  0%|          | 0/1 [00:00<?, ?it/s]"
      ]
     },
     "metadata": {},
     "output_type": "display_data"
    },
    {
     "name": "stdout",
     "output_type": "stream",
     "text": [
      "Error generating application letter for Cornell University in finance: Word.Application.Documents\n",
      "\n",
      "21 application letters have been generated and saved:\n",
      "- Word documents saved in 'generated_documents/word' folder\n",
      "- PDF documents saved in 'generated_documents/pdf' folder\n"
     ]
    },
    {
     "data": {
      "application/vnd.jupyter.widget-view+json": {
       "model_id": "92b9a9a05433456e94e7db3d9ccca112",
       "version_major": 2,
       "version_minor": 0
      },
      "text/plain": [
       "  0%|          | 0/1 [00:00<?, ?it/s]"
      ]
     },
     "metadata": {},
     "output_type": "display_data"
    },
    {
     "data": {
      "application/vnd.jupyter.widget-view+json": {
       "model_id": "e185e881f6f343da9ada05869a72ccf4",
       "version_major": 2,
       "version_minor": 0
      },
      "text/plain": [
       "  0%|          | 0/1 [00:00<?, ?it/s]"
      ]
     },
     "metadata": {},
     "output_type": "display_data"
    },
    {
     "name": "stdout",
     "output_type": "stream",
     "text": [
      "Error generating application letter for University of California-Davis in economy: Word.Application.Documents\n"
     ]
    },
    {
     "data": {
      "application/vnd.jupyter.widget-view+json": {
       "model_id": "74500335d6054dbf9e5439fe90a1cd0a",
       "version_major": 2,
       "version_minor": 0
      },
      "text/plain": [
       "  0%|          | 0/1 [00:00<?, ?it/s]"
      ]
     },
     "metadata": {},
     "output_type": "display_data"
    },
    {
     "name": "stdout",
     "output_type": "stream",
     "text": [
      "\n",
      "23 application letters have been generated and saved:\n",
      "- Word documents saved in 'generated_documents/word' folder\n",
      "- PDF documents saved in 'generated_documents/pdf' folder\n"
     ]
    },
    {
     "data": {
      "application/vnd.jupyter.widget-view+json": {
       "model_id": "9510d422b79f48cb908a0d0f23f102ca",
       "version_major": 2,
       "version_minor": 0
      },
      "text/plain": [
       "  0%|          | 0/1 [00:00<?, ?it/s]"
      ]
     },
     "metadata": {},
     "output_type": "display_data"
    },
    {
     "name": "stdout",
     "output_type": "stream",
     "text": [
      "Error generating application letter for Johns Hopkins University in accounting: Word.Application.Documents\n"
     ]
    },
    {
     "data": {
      "application/vnd.jupyter.widget-view+json": {
       "model_id": "613ab23dafe74c00b916f946e4d57100",
       "version_major": 2,
       "version_minor": 0
      },
      "text/plain": [
       "  0%|          | 0/1 [00:00<?, ?it/s]"
      ]
     },
     "metadata": {},
     "output_type": "display_data"
    },
    {
     "data": {
      "application/vnd.jupyter.widget-view+json": {
       "model_id": "f7bce03fe0db4926b700c6df3c3ab051",
       "version_major": 2,
       "version_minor": 0
      },
      "text/plain": [
       "  0%|          | 0/1 [00:00<?, ?it/s]"
      ]
     },
     "metadata": {},
     "output_type": "display_data"
    },
    {
     "name": "stdout",
     "output_type": "stream",
     "text": [
      "Error generating application letter for Johns Hopkins University in finance: Word.Application.Documents\n",
      "\n",
      "24 application letters have been generated and saved:\n",
      "- Word documents saved in 'generated_documents/word' folder\n",
      "- PDF documents saved in 'generated_documents/pdf' folder\n"
     ]
    },
    {
     "data": {
      "application/vnd.jupyter.widget-view+json": {
       "model_id": "c59e2e57ef19432eae78e594dc687ff8",
       "version_major": 2,
       "version_minor": 0
      },
      "text/plain": [
       "  0%|          | 0/1 [00:00<?, ?it/s]"
      ]
     },
     "metadata": {},
     "output_type": "display_data"
    },
    {
     "data": {
      "application/vnd.jupyter.widget-view+json": {
       "model_id": "1b3d23490b69488fb6908be889a2e163",
       "version_major": 2,
       "version_minor": 0
      },
      "text/plain": [
       "  0%|          | 0/1 [00:00<?, ?it/s]"
      ]
     },
     "metadata": {},
     "output_type": "display_data"
    },
    {
     "name": "stdout",
     "output_type": "stream",
     "text": [
      "Error generating application letter for University of California-Irvine in economy: Word.Application.Documents\n"
     ]
    },
    {
     "data": {
      "application/vnd.jupyter.widget-view+json": {
       "model_id": "d32d9327565f45b386f90b95a0960534",
       "version_major": 2,
       "version_minor": 0
      },
      "text/plain": [
       "  0%|          | 0/1 [00:00<?, ?it/s]"
      ]
     },
     "metadata": {},
     "output_type": "display_data"
    },
    {
     "name": "stdout",
     "output_type": "stream",
     "text": [
      "\n",
      "26 application letters have been generated and saved:\n",
      "- Word documents saved in 'generated_documents/word' folder\n",
      "- PDF documents saved in 'generated_documents/pdf' folder\n"
     ]
    },
    {
     "data": {
      "application/vnd.jupyter.widget-view+json": {
       "model_id": "24b4efce125c4ae180765a053a5364fe",
       "version_major": 2,
       "version_minor": 0
      },
      "text/plain": [
       "  0%|          | 0/1 [00:00<?, ?it/s]"
      ]
     },
     "metadata": {},
     "output_type": "display_data"
    },
    {
     "name": "stdout",
     "output_type": "stream",
     "text": [
      "Error generating application letter for University of Maryland in accounting: Word.Application.Documents\n"
     ]
    },
    {
     "data": {
      "application/vnd.jupyter.widget-view+json": {
       "model_id": "08c575ebb88a49ea8530f2665a007ea0",
       "version_major": 2,
       "version_minor": 0
      },
      "text/plain": [
       "  0%|          | 0/1 [00:00<?, ?it/s]"
      ]
     },
     "metadata": {},
     "output_type": "display_data"
    },
    {
     "data": {
      "application/vnd.jupyter.widget-view+json": {
       "model_id": "e6e9e55fcc884713855a76fa24a7cc49",
       "version_major": 2,
       "version_minor": 0
      },
      "text/plain": [
       "  0%|          | 0/1 [00:00<?, ?it/s]"
      ]
     },
     "metadata": {},
     "output_type": "display_data"
    },
    {
     "name": "stdout",
     "output_type": "stream",
     "text": [
      "Error generating application letter for University of Maryland in finance: Word.Application.Documents\n",
      "\n",
      "27 application letters have been generated and saved:\n",
      "- Word documents saved in 'generated_documents/word' folder\n",
      "- PDF documents saved in 'generated_documents/pdf' folder\n"
     ]
    },
    {
     "data": {
      "application/vnd.jupyter.widget-view+json": {
       "model_id": "256f95e228e64a6e8c746c875086e2ca",
       "version_major": 2,
       "version_minor": 0
      },
      "text/plain": [
       "  0%|          | 0/1 [00:00<?, ?it/s]"
      ]
     },
     "metadata": {},
     "output_type": "display_data"
    },
    {
     "data": {
      "application/vnd.jupyter.widget-view+json": {
       "model_id": "fc19a5eb27e445d4afd2cd9b0920a8ee",
       "version_major": 2,
       "version_minor": 0
      },
      "text/plain": [
       "  0%|          | 0/1 [00:00<?, ?it/s]"
      ]
     },
     "metadata": {},
     "output_type": "display_data"
    },
    {
     "name": "stdout",
     "output_type": "stream",
     "text": [
      "Error generating application letter for Vanderbilt University in economy: Word.Application.Documents\n"
     ]
    },
    {
     "data": {
      "application/vnd.jupyter.widget-view+json": {
       "model_id": "0f44b2eca9e24ccba8ac9e232fa04994",
       "version_major": 2,
       "version_minor": 0
      },
      "text/plain": [
       "  0%|          | 0/1 [00:00<?, ?it/s]"
      ]
     },
     "metadata": {},
     "output_type": "display_data"
    },
    {
     "name": "stdout",
     "output_type": "stream",
     "text": [
      "\n",
      "29 application letters have been generated and saved:\n",
      "- Word documents saved in 'generated_documents/word' folder\n",
      "- PDF documents saved in 'generated_documents/pdf' folder\n"
     ]
    },
    {
     "data": {
      "application/vnd.jupyter.widget-view+json": {
       "model_id": "ef400bd2ecd64f8fbdf12cb3e24ee656",
       "version_major": 2,
       "version_minor": 0
      },
      "text/plain": [
       "  0%|          | 0/1 [00:00<?, ?it/s]"
      ]
     },
     "metadata": {},
     "output_type": "display_data"
    },
    {
     "name": "stdout",
     "output_type": "stream",
     "text": [
      "Error generating application letter for University of Notre Dame in accounting: Word.Application.Documents\n"
     ]
    },
    {
     "data": {
      "application/vnd.jupyter.widget-view+json": {
       "model_id": "f3e6aadf65b54b67bc820c86cfb1458f",
       "version_major": 2,
       "version_minor": 0
      },
      "text/plain": [
       "  0%|          | 0/1 [00:00<?, ?it/s]"
      ]
     },
     "metadata": {},
     "output_type": "display_data"
    },
    {
     "name": "stdout",
     "output_type": "stream",
     "text": [
      "30 documents have been generated...\n"
     ]
    },
    {
     "data": {
      "application/vnd.jupyter.widget-view+json": {
       "model_id": "bb205da9d4e642c1b8a3b6c326f4b81a",
       "version_major": 2,
       "version_minor": 0
      },
      "text/plain": [
       "  0%|          | 0/1 [00:00<?, ?it/s]"
      ]
     },
     "metadata": {},
     "output_type": "display_data"
    },
    {
     "name": "stdout",
     "output_type": "stream",
     "text": [
      "Error generating application letter for University of Notre Dame in finance: Word.Application.Documents\n",
      "\n",
      "30 application letters have been generated and saved:\n",
      "- Word documents saved in 'generated_documents/word' folder\n",
      "- PDF documents saved in 'generated_documents/pdf' folder\n"
     ]
    },
    {
     "data": {
      "application/vnd.jupyter.widget-view+json": {
       "model_id": "ed8bc829cc514567a6662251b365508d",
       "version_major": 2,
       "version_minor": 0
      },
      "text/plain": [
       "  0%|          | 0/1 [00:00<?, ?it/s]"
      ]
     },
     "metadata": {},
     "output_type": "display_data"
    },
    {
     "data": {
      "application/vnd.jupyter.widget-view+json": {
       "model_id": "289dacc194c547efb62927ca3dfca8d6",
       "version_major": 2,
       "version_minor": 0
      },
      "text/plain": [
       "  0%|          | 0/1 [00:00<?, ?it/s]"
      ]
     },
     "metadata": {},
     "output_type": "display_data"
    },
    {
     "name": "stdout",
     "output_type": "stream",
     "text": [
      "Error generating application letter for University of Virginia in economy: Word.Application.Documents\n"
     ]
    },
    {
     "data": {
      "application/vnd.jupyter.widget-view+json": {
       "model_id": "d00d8939e56346fbb4d4a4b2e5acbc65",
       "version_major": 2,
       "version_minor": 0
      },
      "text/plain": [
       "  0%|          | 0/1 [00:00<?, ?it/s]"
      ]
     },
     "metadata": {},
     "output_type": "display_data"
    },
    {
     "name": "stdout",
     "output_type": "stream",
     "text": [
      "\n",
      "32 application letters have been generated and saved:\n",
      "- Word documents saved in 'generated_documents/word' folder\n",
      "- PDF documents saved in 'generated_documents/pdf' folder\n"
     ]
    },
    {
     "data": {
      "application/vnd.jupyter.widget-view+json": {
       "model_id": "1db43de603f4475ba40548824afc2b01",
       "version_major": 2,
       "version_minor": 0
      },
      "text/plain": [
       "  0%|          | 0/1 [00:00<?, ?it/s]"
      ]
     },
     "metadata": {},
     "output_type": "display_data"
    },
    {
     "name": "stdout",
     "output_type": "stream",
     "text": [
      "Error generating application letter for Georgetown University in accounting: Word.Application.Documents\n"
     ]
    },
    {
     "data": {
      "application/vnd.jupyter.widget-view+json": {
       "model_id": "eaf9a3f3d0dd4558bd1babe666d7c940",
       "version_major": 2,
       "version_minor": 0
      },
      "text/plain": [
       "  0%|          | 0/1 [00:00<?, ?it/s]"
      ]
     },
     "metadata": {},
     "output_type": "display_data"
    },
    {
     "data": {
      "application/vnd.jupyter.widget-view+json": {
       "model_id": "888815e2a32743a393a00e15ae6e3f15",
       "version_major": 2,
       "version_minor": 0
      },
      "text/plain": [
       "  0%|          | 0/1 [00:00<?, ?it/s]"
      ]
     },
     "metadata": {},
     "output_type": "display_data"
    },
    {
     "name": "stdout",
     "output_type": "stream",
     "text": [
      "Error generating application letter for Georgetown University in finance: Word.Application.Documents\n",
      "\n",
      "33 application letters have been generated and saved:\n",
      "- Word documents saved in 'generated_documents/word' folder\n",
      "- PDF documents saved in 'generated_documents/pdf' folder\n"
     ]
    },
    {
     "data": {
      "application/vnd.jupyter.widget-view+json": {
       "model_id": "085abcb2983a42069500820a34e4df16",
       "version_major": 2,
       "version_minor": 0
      },
      "text/plain": [
       "  0%|          | 0/1 [00:00<?, ?it/s]"
      ]
     },
     "metadata": {},
     "output_type": "display_data"
    },
    {
     "data": {
      "application/vnd.jupyter.widget-view+json": {
       "model_id": "fd2754f472f1411eb454cc33f0e9752a",
       "version_major": 2,
       "version_minor": 0
      },
      "text/plain": [
       "  0%|          | 0/1 [00:00<?, ?it/s]"
      ]
     },
     "metadata": {},
     "output_type": "display_data"
    },
    {
     "name": "stdout",
     "output_type": "stream",
     "text": [
      "Error generating application letter for University of Minnesota in economy: Word.Application.Documents\n"
     ]
    },
    {
     "data": {
      "application/vnd.jupyter.widget-view+json": {
       "model_id": "c20612d2256e4168ac05928b411e108a",
       "version_major": 2,
       "version_minor": 0
      },
      "text/plain": [
       "  0%|          | 0/1 [00:00<?, ?it/s]"
      ]
     },
     "metadata": {},
     "output_type": "display_data"
    },
    {
     "name": "stdout",
     "output_type": "stream",
     "text": [
      "\n",
      "35 application letters have been generated and saved:\n",
      "- Word documents saved in 'generated_documents/word' folder\n",
      "- PDF documents saved in 'generated_documents/pdf' folder\n"
     ]
    },
    {
     "data": {
      "application/vnd.jupyter.widget-view+json": {
       "model_id": "1c186043f0c2493b9988d94772f1277a",
       "version_major": 2,
       "version_minor": 0
      },
      "text/plain": [
       "  0%|          | 0/1 [00:00<?, ?it/s]"
      ]
     },
     "metadata": {},
     "output_type": "display_data"
    },
    {
     "name": "stdout",
     "output_type": "stream",
     "text": [
      "Error generating application letter for University of California-Santa Barbara (UCSB) in accounting: Word.Application.Documents\n"
     ]
    },
    {
     "data": {
      "application/vnd.jupyter.widget-view+json": {
       "model_id": "4eedb2d5396446dca86be88a1969b44a",
       "version_major": 2,
       "version_minor": 0
      },
      "text/plain": [
       "  0%|          | 0/1 [00:00<?, ?it/s]"
      ]
     },
     "metadata": {},
     "output_type": "display_data"
    },
    {
     "data": {
      "application/vnd.jupyter.widget-view+json": {
       "model_id": "edf8806e9f614c9893959c863ff00a9c",
       "version_major": 2,
       "version_minor": 0
      },
      "text/plain": [
       "  0%|          | 0/1 [00:00<?, ?it/s]"
      ]
     },
     "metadata": {},
     "output_type": "display_data"
    },
    {
     "name": "stdout",
     "output_type": "stream",
     "text": [
      "Error generating application letter for University of California-Santa Barbara (UCSB) in finance: Word.Application.Documents\n",
      "\n",
      "36 application letters have been generated and saved:\n",
      "- Word documents saved in 'generated_documents/word' folder\n",
      "- PDF documents saved in 'generated_documents/pdf' folder\n"
     ]
    },
    {
     "data": {
      "application/vnd.jupyter.widget-view+json": {
       "model_id": "15a47f8de7084304ab0eaf90b5659441",
       "version_major": 2,
       "version_minor": 0
      },
      "text/plain": [
       "  0%|          | 0/1 [00:00<?, ?it/s]"
      ]
     },
     "metadata": {},
     "output_type": "display_data"
    },
    {
     "data": {
      "application/vnd.jupyter.widget-view+json": {
       "model_id": "d8b7f2246ecd457c9eec583611c84fc6",
       "version_major": 2,
       "version_minor": 0
      },
      "text/plain": [
       "  0%|          | 0/1 [00:00<?, ?it/s]"
      ]
     },
     "metadata": {},
     "output_type": "display_data"
    },
    {
     "name": "stdout",
     "output_type": "stream",
     "text": [
      "Error generating application letter for Pennsylvania State University in economy: Word.Application.Documents\n"
     ]
    },
    {
     "data": {
      "application/vnd.jupyter.widget-view+json": {
       "model_id": "4de5ca9db34a482cb950681527e9040f",
       "version_major": 2,
       "version_minor": 0
      },
      "text/plain": [
       "  0%|          | 0/1 [00:00<?, ?it/s]"
      ]
     },
     "metadata": {},
     "output_type": "display_data"
    },
    {
     "name": "stdout",
     "output_type": "stream",
     "text": [
      "\n",
      "38 application letters have been generated and saved:\n",
      "- Word documents saved in 'generated_documents/word' folder\n",
      "- PDF documents saved in 'generated_documents/pdf' folder\n"
     ]
    },
    {
     "data": {
      "application/vnd.jupyter.widget-view+json": {
       "model_id": "b9a45aecc0a64af4b87a93b1bd2e9da6",
       "version_major": 2,
       "version_minor": 0
      },
      "text/plain": [
       "  0%|          | 0/1 [00:00<?, ?it/s]"
      ]
     },
     "metadata": {},
     "output_type": "display_data"
    },
    {
     "name": "stdout",
     "output_type": "stream",
     "text": [
      "Error generating application letter for Washington University in St. Louis in accounting: Word.Application.Documents\n"
     ]
    },
    {
     "data": {
      "application/vnd.jupyter.widget-view+json": {
       "model_id": "68f38681703d40a2825afca80c528325",
       "version_major": 2,
       "version_minor": 0
      },
      "text/plain": [
       "  0%|          | 0/1 [00:00<?, ?it/s]"
      ]
     },
     "metadata": {},
     "output_type": "display_data"
    },
    {
     "data": {
      "application/vnd.jupyter.widget-view+json": {
       "model_id": "a150deb247f54e71911f08780dc68a4b",
       "version_major": 2,
       "version_minor": 0
      },
      "text/plain": [
       "  0%|          | 0/1 [00:00<?, ?it/s]"
      ]
     },
     "metadata": {},
     "output_type": "display_data"
    },
    {
     "name": "stdout",
     "output_type": "stream",
     "text": [
      "Error generating application letter for Washington University in St. Louis in finance: Word.Application.Documents\n",
      "\n",
      "39 application letters have been generated and saved:\n",
      "- Word documents saved in 'generated_documents/word' folder\n",
      "- PDF documents saved in 'generated_documents/pdf' folder\n"
     ]
    },
    {
     "data": {
      "application/vnd.jupyter.widget-view+json": {
       "model_id": "3110d3bbd67d4702bf0c6132510bad58",
       "version_major": 2,
       "version_minor": 0
      },
      "text/plain": [
       "  0%|          | 0/1 [00:00<?, ?it/s]"
      ]
     },
     "metadata": {},
     "output_type": "display_data"
    },
    {
     "name": "stdout",
     "output_type": "stream",
     "text": [
      "40 documents have been generated...\n"
     ]
    },
    {
     "data": {
      "application/vnd.jupyter.widget-view+json": {
       "model_id": "08a59c178d0b43709704e6203d16ef81",
       "version_major": 2,
       "version_minor": 0
      },
      "text/plain": [
       "  0%|          | 0/1 [00:00<?, ?it/s]"
      ]
     },
     "metadata": {},
     "output_type": "display_data"
    },
    {
     "name": "stdout",
     "output_type": "stream",
     "text": [
      "Error generating application letter for University of Colorado in economy: Word.Application.Documents\n"
     ]
    },
    {
     "data": {
      "application/vnd.jupyter.widget-view+json": {
       "model_id": "4f3727a710634db988294cb52bd1abfd",
       "version_major": 2,
       "version_minor": 0
      },
      "text/plain": [
       "  0%|          | 0/1 [00:00<?, ?it/s]"
      ]
     },
     "metadata": {},
     "output_type": "display_data"
    },
    {
     "name": "stdout",
     "output_type": "stream",
     "text": [
      "\n",
      "41 application letters have been generated and saved:\n",
      "- Word documents saved in 'generated_documents/word' folder\n",
      "- PDF documents saved in 'generated_documents/pdf' folder\n"
     ]
    },
    {
     "data": {
      "application/vnd.jupyter.widget-view+json": {
       "model_id": "adf01eae8a1640a4be4e02108d866598",
       "version_major": 2,
       "version_minor": 0
      },
      "text/plain": [
       "  0%|          | 0/1 [00:00<?, ?it/s]"
      ]
     },
     "metadata": {},
     "output_type": "display_data"
    },
    {
     "name": "stdout",
     "output_type": "stream",
     "text": [
      "Error generating application letter for Rutgers University-New Brunswick in accounting: Word.Application.Documents\n"
     ]
    },
    {
     "data": {
      "application/vnd.jupyter.widget-view+json": {
       "model_id": "3febcaace217445ebb63a0c2ef4a010d",
       "version_major": 2,
       "version_minor": 0
      },
      "text/plain": [
       "  0%|          | 0/1 [00:00<?, ?it/s]"
      ]
     },
     "metadata": {},
     "output_type": "display_data"
    },
    {
     "data": {
      "application/vnd.jupyter.widget-view+json": {
       "model_id": "c8f0dc1192c34f9d843e26e0a2be4d24",
       "version_major": 2,
       "version_minor": 0
      },
      "text/plain": [
       "  0%|          | 0/1 [00:00<?, ?it/s]"
      ]
     },
     "metadata": {},
     "output_type": "display_data"
    },
    {
     "name": "stdout",
     "output_type": "stream",
     "text": [
      "Error generating application letter for Rutgers University-New Brunswick in finance: Word.Application.Documents\n",
      "\n",
      "42 application letters have been generated and saved:\n",
      "- Word documents saved in 'generated_documents/word' folder\n",
      "- PDF documents saved in 'generated_documents/pdf' folder\n"
     ]
    },
    {
     "data": {
      "application/vnd.jupyter.widget-view+json": {
       "model_id": "7e07f46beacc462e801d4d199cc57d04",
       "version_major": 2,
       "version_minor": 0
      },
      "text/plain": [
       "  0%|          | 0/1 [00:00<?, ?it/s]"
      ]
     },
     "metadata": {},
     "output_type": "display_data"
    },
    {
     "data": {
      "application/vnd.jupyter.widget-view+json": {
       "model_id": "f80da7c0e1634afc82eb4835da3417eb",
       "version_major": 2,
       "version_minor": 0
      },
      "text/plain": [
       "  0%|          | 0/1 [00:00<?, ?it/s]"
      ]
     },
     "metadata": {},
     "output_type": "display_data"
    },
    {
     "name": "stdout",
     "output_type": "stream",
     "text": [
      "Error generating application letter for Ohio State University in economy: Word.Application.Documents\n"
     ]
    },
    {
     "data": {
      "application/vnd.jupyter.widget-view+json": {
       "model_id": "94c8c4a105bb4f7ab8491b22638f45d8",
       "version_major": 2,
       "version_minor": 0
      },
      "text/plain": [
       "  0%|          | 0/1 [00:00<?, ?it/s]"
      ]
     },
     "metadata": {},
     "output_type": "display_data"
    },
    {
     "name": "stdout",
     "output_type": "stream",
     "text": [
      "\n",
      "44 application letters have been generated and saved:\n",
      "- Word documents saved in 'generated_documents/word' folder\n",
      "- PDF documents saved in 'generated_documents/pdf' folder\n"
     ]
    },
    {
     "data": {
      "application/vnd.jupyter.widget-view+json": {
       "model_id": "f725399498424d30923dc05467d45cc9",
       "version_major": 2,
       "version_minor": 0
      },
      "text/plain": [
       "  0%|          | 0/1 [00:00<?, ?it/s]"
      ]
     },
     "metadata": {},
     "output_type": "display_data"
    },
    {
     "name": "stdout",
     "output_type": "stream",
     "text": [
      "Error generating application letter for University of California-Santa Cruz (UCSC) in accounting: Word.Application.Documents\n"
     ]
    },
    {
     "data": {
      "application/vnd.jupyter.widget-view+json": {
       "model_id": "99d4218525b44c26b23d0ef86f3ceefc",
       "version_major": 2,
       "version_minor": 0
      },
      "text/plain": [
       "  0%|          | 0/1 [00:00<?, ?it/s]"
      ]
     },
     "metadata": {},
     "output_type": "display_data"
    },
    {
     "data": {
      "application/vnd.jupyter.widget-view+json": {
       "model_id": "7dd3d2bfda39480698da67fbd99dbfc1",
       "version_major": 2,
       "version_minor": 0
      },
      "text/plain": [
       "  0%|          | 0/1 [00:00<?, ?it/s]"
      ]
     },
     "metadata": {},
     "output_type": "display_data"
    },
    {
     "name": "stdout",
     "output_type": "stream",
     "text": [
      "Error generating application letter for University of California-Santa Cruz (UCSC) in finance: Word.Application.Documents\n",
      "\n",
      "45 application letters have been generated and saved:\n",
      "- Word documents saved in 'generated_documents/word' folder\n",
      "- PDF documents saved in 'generated_documents/pdf' folder\n"
     ]
    }
   ],
   "source": [
    "if __name__ == \"__main__\":\n",
    "    main()"
   ]
  }
 ],
 "metadata": {
  "kernelspec": {
   "display_name": "Python [conda env:base] *",
   "language": "python",
   "name": "conda-base-py"
  },
  "language_info": {
   "codemirror_mode": {
    "name": "ipython",
    "version": 3
   },
   "file_extension": ".py",
   "mimetype": "text/x-python",
   "name": "python",
   "nbconvert_exporter": "python",
   "pygments_lexer": "ipython3",
   "version": "3.12.7"
  }
 },
 "nbformat": 4,
 "nbformat_minor": 5
}
